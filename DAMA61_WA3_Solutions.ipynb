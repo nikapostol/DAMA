{
 "cells": [
  {
   "cell_type": "markdown",
   "id": "496dbbd5-4a39-423d-b82f-e5ee5ddd2c32",
   "metadata": {},
   "source": [
    "## Solution to Written Assignment 3 of DAMA61 ##"
   ]
  },
  {
   "cell_type": "markdown",
   "id": "67109ff7-66ae-4cba-918c-925b188cef46",
   "metadata": {},
   "source": [
    "#### Nikos Apostolopoulos (std163710) ####"
   ]
  },
  {
   "cell_type": "markdown",
   "id": "6312dfa0-416a-430a-98ee-2d17727b0c00",
   "metadata": {},
   "source": [
    "### Problem 1 ###"
   ]
  },
  {
   "cell_type": "markdown",
   "id": "4950e231-8b2c-4e58-b881-6fbd03a3fee4",
   "metadata": {},
   "source": [
    "Import required libraries."
   ]
  },
  {
   "cell_type": "code",
   "execution_count": 5,
   "id": "6ddea2e5-cc9b-4576-973c-8576cba19f72",
   "metadata": {},
   "outputs": [],
   "source": [
    "from sklearn.datasets import fetch_openml\n",
    "import numpy as np\n",
    "from sklearn.model_selection import train_test_split, GridSearchCV\n",
    "from sklearn.preprocessing import LabelEncoder, StandardScaler\n",
    "from sklearn.decomposition import PCA\n",
    "from sklearn.pipeline import Pipeline\n",
    "from sklearn.tree import DecisionTreeClassifier\n",
    "from sklearn.cluster import KMeans\n",
    "from sklearn.ensemble import GradientBoostingClassifier\n",
    "from sklearn.metrics import accuracy_score, f1_score\n",
    "import matplotlib.pyplot as plt\n",
    "from scipy.spatial.distance import cdist"
   ]
  },
  {
   "cell_type": "markdown",
   "id": "edcce91b-eb66-40ec-b209-3ec9a1389c90",
   "metadata": {},
   "source": [
    "##### Question 1. #####\n",
    "Load MNIST dataset and split it into training and test sets."
   ]
  },
  {
   "cell_type": "code",
   "execution_count": 7,
   "id": "1ba3269d-bf46-4c27-bfa5-5cfeee240cc9",
   "metadata": {},
   "outputs": [],
   "source": [
    "# load the mnist dataset\n",
    "mnist = fetch_openml('mnist_784', as_frame=False)\n",
    "X, y = mnist.data, mnist.target\n",
    "# split the dataset using stratisfied splitting with a fixed random state\n",
    "X_train, X_test, y_train, y_test = train_test_split(X, y, test_size=0.2, stratify=y, random_state=42)"
   ]
  },
  {
   "cell_type": "code",
   "execution_count": 8,
   "id": "f9e6d260-9898-46b7-9091-cc1af60976e2",
   "metadata": {},
   "outputs": [],
   "source": [
    "# retain the 10000 first entries from the training set and the first 2000 from the test set\n",
    "X_train = X_train[:10000]\n",
    "y_train = y_train[:10000]\n",
    "X_test = X_test[:2000]\n",
    "y_test = y_test[:2000]\n",
    "# standardize features\n",
    "scaler = StandardScaler()\n",
    "X_train_scaled = scaler.fit_transform(X_train)\n",
    "X_test_scaled = scaler.transform(X_test)"
   ]
  },
  {
   "cell_type": "code",
   "execution_count": 9,
   "id": "3309302f-b5b1-4d1b-95c8-3495cd32d217",
   "metadata": {},
   "outputs": [],
   "source": [
    "# convert the labels from an array of strings to an array of 64-bit integers\n",
    "lblEncoder = LabelEncoder()\n",
    "y_train_int = lblEncoder.fit_transform(y_train)\n",
    "y_test_int = lblEncoder.fit_transform(y_test)"
   ]
  },
  {
   "cell_type": "markdown",
   "id": "97dca3cb-ef1f-46d3-8040-2e1c4b6ed79d",
   "metadata": {},
   "source": [
    "##### Question 2. #####\n",
    "Perform a Grid Search for a Decision Tree."
   ]
  },
  {
   "cell_type": "code",
   "execution_count": 11,
   "id": "d132cd5e-5d61-4a61-b31a-deb140b8e53c",
   "metadata": {},
   "outputs": [
    {
     "data": {
      "text/html": [
       "<style>#sk-container-id-1 {\n",
       "  /* Definition of color scheme common for light and dark mode */\n",
       "  --sklearn-color-text: black;\n",
       "  --sklearn-color-line: gray;\n",
       "  /* Definition of color scheme for unfitted estimators */\n",
       "  --sklearn-color-unfitted-level-0: #fff5e6;\n",
       "  --sklearn-color-unfitted-level-1: #f6e4d2;\n",
       "  --sklearn-color-unfitted-level-2: #ffe0b3;\n",
       "  --sklearn-color-unfitted-level-3: chocolate;\n",
       "  /* Definition of color scheme for fitted estimators */\n",
       "  --sklearn-color-fitted-level-0: #f0f8ff;\n",
       "  --sklearn-color-fitted-level-1: #d4ebff;\n",
       "  --sklearn-color-fitted-level-2: #b3dbfd;\n",
       "  --sklearn-color-fitted-level-3: cornflowerblue;\n",
       "\n",
       "  /* Specific color for light theme */\n",
       "  --sklearn-color-text-on-default-background: var(--sg-text-color, var(--theme-code-foreground, var(--jp-content-font-color1, black)));\n",
       "  --sklearn-color-background: var(--sg-background-color, var(--theme-background, var(--jp-layout-color0, white)));\n",
       "  --sklearn-color-border-box: var(--sg-text-color, var(--theme-code-foreground, var(--jp-content-font-color1, black)));\n",
       "  --sklearn-color-icon: #696969;\n",
       "\n",
       "  @media (prefers-color-scheme: dark) {\n",
       "    /* Redefinition of color scheme for dark theme */\n",
       "    --sklearn-color-text-on-default-background: var(--sg-text-color, var(--theme-code-foreground, var(--jp-content-font-color1, white)));\n",
       "    --sklearn-color-background: var(--sg-background-color, var(--theme-background, var(--jp-layout-color0, #111)));\n",
       "    --sklearn-color-border-box: var(--sg-text-color, var(--theme-code-foreground, var(--jp-content-font-color1, white)));\n",
       "    --sklearn-color-icon: #878787;\n",
       "  }\n",
       "}\n",
       "\n",
       "#sk-container-id-1 {\n",
       "  color: var(--sklearn-color-text);\n",
       "}\n",
       "\n",
       "#sk-container-id-1 pre {\n",
       "  padding: 0;\n",
       "}\n",
       "\n",
       "#sk-container-id-1 input.sk-hidden--visually {\n",
       "  border: 0;\n",
       "  clip: rect(1px 1px 1px 1px);\n",
       "  clip: rect(1px, 1px, 1px, 1px);\n",
       "  height: 1px;\n",
       "  margin: -1px;\n",
       "  overflow: hidden;\n",
       "  padding: 0;\n",
       "  position: absolute;\n",
       "  width: 1px;\n",
       "}\n",
       "\n",
       "#sk-container-id-1 div.sk-dashed-wrapped {\n",
       "  border: 1px dashed var(--sklearn-color-line);\n",
       "  margin: 0 0.4em 0.5em 0.4em;\n",
       "  box-sizing: border-box;\n",
       "  padding-bottom: 0.4em;\n",
       "  background-color: var(--sklearn-color-background);\n",
       "}\n",
       "\n",
       "#sk-container-id-1 div.sk-container {\n",
       "  /* jupyter's `normalize.less` sets `[hidden] { display: none; }`\n",
       "     but bootstrap.min.css set `[hidden] { display: none !important; }`\n",
       "     so we also need the `!important` here to be able to override the\n",
       "     default hidden behavior on the sphinx rendered scikit-learn.org.\n",
       "     See: https://github.com/scikit-learn/scikit-learn/issues/21755 */\n",
       "  display: inline-block !important;\n",
       "  position: relative;\n",
       "}\n",
       "\n",
       "#sk-container-id-1 div.sk-text-repr-fallback {\n",
       "  display: none;\n",
       "}\n",
       "\n",
       "div.sk-parallel-item,\n",
       "div.sk-serial,\n",
       "div.sk-item {\n",
       "  /* draw centered vertical line to link estimators */\n",
       "  background-image: linear-gradient(var(--sklearn-color-text-on-default-background), var(--sklearn-color-text-on-default-background));\n",
       "  background-size: 2px 100%;\n",
       "  background-repeat: no-repeat;\n",
       "  background-position: center center;\n",
       "}\n",
       "\n",
       "/* Parallel-specific style estimator block */\n",
       "\n",
       "#sk-container-id-1 div.sk-parallel-item::after {\n",
       "  content: \"\";\n",
       "  width: 100%;\n",
       "  border-bottom: 2px solid var(--sklearn-color-text-on-default-background);\n",
       "  flex-grow: 1;\n",
       "}\n",
       "\n",
       "#sk-container-id-1 div.sk-parallel {\n",
       "  display: flex;\n",
       "  align-items: stretch;\n",
       "  justify-content: center;\n",
       "  background-color: var(--sklearn-color-background);\n",
       "  position: relative;\n",
       "}\n",
       "\n",
       "#sk-container-id-1 div.sk-parallel-item {\n",
       "  display: flex;\n",
       "  flex-direction: column;\n",
       "}\n",
       "\n",
       "#sk-container-id-1 div.sk-parallel-item:first-child::after {\n",
       "  align-self: flex-end;\n",
       "  width: 50%;\n",
       "}\n",
       "\n",
       "#sk-container-id-1 div.sk-parallel-item:last-child::after {\n",
       "  align-self: flex-start;\n",
       "  width: 50%;\n",
       "}\n",
       "\n",
       "#sk-container-id-1 div.sk-parallel-item:only-child::after {\n",
       "  width: 0;\n",
       "}\n",
       "\n",
       "/* Serial-specific style estimator block */\n",
       "\n",
       "#sk-container-id-1 div.sk-serial {\n",
       "  display: flex;\n",
       "  flex-direction: column;\n",
       "  align-items: center;\n",
       "  background-color: var(--sklearn-color-background);\n",
       "  padding-right: 1em;\n",
       "  padding-left: 1em;\n",
       "}\n",
       "\n",
       "\n",
       "/* Toggleable style: style used for estimator/Pipeline/ColumnTransformer box that is\n",
       "clickable and can be expanded/collapsed.\n",
       "- Pipeline and ColumnTransformer use this feature and define the default style\n",
       "- Estimators will overwrite some part of the style using the `sk-estimator` class\n",
       "*/\n",
       "\n",
       "/* Pipeline and ColumnTransformer style (default) */\n",
       "\n",
       "#sk-container-id-1 div.sk-toggleable {\n",
       "  /* Default theme specific background. It is overwritten whether we have a\n",
       "  specific estimator or a Pipeline/ColumnTransformer */\n",
       "  background-color: var(--sklearn-color-background);\n",
       "}\n",
       "\n",
       "/* Toggleable label */\n",
       "#sk-container-id-1 label.sk-toggleable__label {\n",
       "  cursor: pointer;\n",
       "  display: block;\n",
       "  width: 100%;\n",
       "  margin-bottom: 0;\n",
       "  padding: 0.5em;\n",
       "  box-sizing: border-box;\n",
       "  text-align: center;\n",
       "}\n",
       "\n",
       "#sk-container-id-1 label.sk-toggleable__label-arrow:before {\n",
       "  /* Arrow on the left of the label */\n",
       "  content: \"▸\";\n",
       "  float: left;\n",
       "  margin-right: 0.25em;\n",
       "  color: var(--sklearn-color-icon);\n",
       "}\n",
       "\n",
       "#sk-container-id-1 label.sk-toggleable__label-arrow:hover:before {\n",
       "  color: var(--sklearn-color-text);\n",
       "}\n",
       "\n",
       "/* Toggleable content - dropdown */\n",
       "\n",
       "#sk-container-id-1 div.sk-toggleable__content {\n",
       "  max-height: 0;\n",
       "  max-width: 0;\n",
       "  overflow: hidden;\n",
       "  text-align: left;\n",
       "  /* unfitted */\n",
       "  background-color: var(--sklearn-color-unfitted-level-0);\n",
       "}\n",
       "\n",
       "#sk-container-id-1 div.sk-toggleable__content.fitted {\n",
       "  /* fitted */\n",
       "  background-color: var(--sklearn-color-fitted-level-0);\n",
       "}\n",
       "\n",
       "#sk-container-id-1 div.sk-toggleable__content pre {\n",
       "  margin: 0.2em;\n",
       "  border-radius: 0.25em;\n",
       "  color: var(--sklearn-color-text);\n",
       "  /* unfitted */\n",
       "  background-color: var(--sklearn-color-unfitted-level-0);\n",
       "}\n",
       "\n",
       "#sk-container-id-1 div.sk-toggleable__content.fitted pre {\n",
       "  /* unfitted */\n",
       "  background-color: var(--sklearn-color-fitted-level-0);\n",
       "}\n",
       "\n",
       "#sk-container-id-1 input.sk-toggleable__control:checked~div.sk-toggleable__content {\n",
       "  /* Expand drop-down */\n",
       "  max-height: 200px;\n",
       "  max-width: 100%;\n",
       "  overflow: auto;\n",
       "}\n",
       "\n",
       "#sk-container-id-1 input.sk-toggleable__control:checked~label.sk-toggleable__label-arrow:before {\n",
       "  content: \"▾\";\n",
       "}\n",
       "\n",
       "/* Pipeline/ColumnTransformer-specific style */\n",
       "\n",
       "#sk-container-id-1 div.sk-label input.sk-toggleable__control:checked~label.sk-toggleable__label {\n",
       "  color: var(--sklearn-color-text);\n",
       "  background-color: var(--sklearn-color-unfitted-level-2);\n",
       "}\n",
       "\n",
       "#sk-container-id-1 div.sk-label.fitted input.sk-toggleable__control:checked~label.sk-toggleable__label {\n",
       "  background-color: var(--sklearn-color-fitted-level-2);\n",
       "}\n",
       "\n",
       "/* Estimator-specific style */\n",
       "\n",
       "/* Colorize estimator box */\n",
       "#sk-container-id-1 div.sk-estimator input.sk-toggleable__control:checked~label.sk-toggleable__label {\n",
       "  /* unfitted */\n",
       "  background-color: var(--sklearn-color-unfitted-level-2);\n",
       "}\n",
       "\n",
       "#sk-container-id-1 div.sk-estimator.fitted input.sk-toggleable__control:checked~label.sk-toggleable__label {\n",
       "  /* fitted */\n",
       "  background-color: var(--sklearn-color-fitted-level-2);\n",
       "}\n",
       "\n",
       "#sk-container-id-1 div.sk-label label.sk-toggleable__label,\n",
       "#sk-container-id-1 div.sk-label label {\n",
       "  /* The background is the default theme color */\n",
       "  color: var(--sklearn-color-text-on-default-background);\n",
       "}\n",
       "\n",
       "/* On hover, darken the color of the background */\n",
       "#sk-container-id-1 div.sk-label:hover label.sk-toggleable__label {\n",
       "  color: var(--sklearn-color-text);\n",
       "  background-color: var(--sklearn-color-unfitted-level-2);\n",
       "}\n",
       "\n",
       "/* Label box, darken color on hover, fitted */\n",
       "#sk-container-id-1 div.sk-label.fitted:hover label.sk-toggleable__label.fitted {\n",
       "  color: var(--sklearn-color-text);\n",
       "  background-color: var(--sklearn-color-fitted-level-2);\n",
       "}\n",
       "\n",
       "/* Estimator label */\n",
       "\n",
       "#sk-container-id-1 div.sk-label label {\n",
       "  font-family: monospace;\n",
       "  font-weight: bold;\n",
       "  display: inline-block;\n",
       "  line-height: 1.2em;\n",
       "}\n",
       "\n",
       "#sk-container-id-1 div.sk-label-container {\n",
       "  text-align: center;\n",
       "}\n",
       "\n",
       "/* Estimator-specific */\n",
       "#sk-container-id-1 div.sk-estimator {\n",
       "  font-family: monospace;\n",
       "  border: 1px dotted var(--sklearn-color-border-box);\n",
       "  border-radius: 0.25em;\n",
       "  box-sizing: border-box;\n",
       "  margin-bottom: 0.5em;\n",
       "  /* unfitted */\n",
       "  background-color: var(--sklearn-color-unfitted-level-0);\n",
       "}\n",
       "\n",
       "#sk-container-id-1 div.sk-estimator.fitted {\n",
       "  /* fitted */\n",
       "  background-color: var(--sklearn-color-fitted-level-0);\n",
       "}\n",
       "\n",
       "/* on hover */\n",
       "#sk-container-id-1 div.sk-estimator:hover {\n",
       "  /* unfitted */\n",
       "  background-color: var(--sklearn-color-unfitted-level-2);\n",
       "}\n",
       "\n",
       "#sk-container-id-1 div.sk-estimator.fitted:hover {\n",
       "  /* fitted */\n",
       "  background-color: var(--sklearn-color-fitted-level-2);\n",
       "}\n",
       "\n",
       "/* Specification for estimator info (e.g. \"i\" and \"?\") */\n",
       "\n",
       "/* Common style for \"i\" and \"?\" */\n",
       "\n",
       ".sk-estimator-doc-link,\n",
       "a:link.sk-estimator-doc-link,\n",
       "a:visited.sk-estimator-doc-link {\n",
       "  float: right;\n",
       "  font-size: smaller;\n",
       "  line-height: 1em;\n",
       "  font-family: monospace;\n",
       "  background-color: var(--sklearn-color-background);\n",
       "  border-radius: 1em;\n",
       "  height: 1em;\n",
       "  width: 1em;\n",
       "  text-decoration: none !important;\n",
       "  margin-left: 1ex;\n",
       "  /* unfitted */\n",
       "  border: var(--sklearn-color-unfitted-level-1) 1pt solid;\n",
       "  color: var(--sklearn-color-unfitted-level-1);\n",
       "}\n",
       "\n",
       ".sk-estimator-doc-link.fitted,\n",
       "a:link.sk-estimator-doc-link.fitted,\n",
       "a:visited.sk-estimator-doc-link.fitted {\n",
       "  /* fitted */\n",
       "  border: var(--sklearn-color-fitted-level-1) 1pt solid;\n",
       "  color: var(--sklearn-color-fitted-level-1);\n",
       "}\n",
       "\n",
       "/* On hover */\n",
       "div.sk-estimator:hover .sk-estimator-doc-link:hover,\n",
       ".sk-estimator-doc-link:hover,\n",
       "div.sk-label-container:hover .sk-estimator-doc-link:hover,\n",
       ".sk-estimator-doc-link:hover {\n",
       "  /* unfitted */\n",
       "  background-color: var(--sklearn-color-unfitted-level-3);\n",
       "  color: var(--sklearn-color-background);\n",
       "  text-decoration: none;\n",
       "}\n",
       "\n",
       "div.sk-estimator.fitted:hover .sk-estimator-doc-link.fitted:hover,\n",
       ".sk-estimator-doc-link.fitted:hover,\n",
       "div.sk-label-container:hover .sk-estimator-doc-link.fitted:hover,\n",
       ".sk-estimator-doc-link.fitted:hover {\n",
       "  /* fitted */\n",
       "  background-color: var(--sklearn-color-fitted-level-3);\n",
       "  color: var(--sklearn-color-background);\n",
       "  text-decoration: none;\n",
       "}\n",
       "\n",
       "/* Span, style for the box shown on hovering the info icon */\n",
       ".sk-estimator-doc-link span {\n",
       "  display: none;\n",
       "  z-index: 9999;\n",
       "  position: relative;\n",
       "  font-weight: normal;\n",
       "  right: .2ex;\n",
       "  padding: .5ex;\n",
       "  margin: .5ex;\n",
       "  width: min-content;\n",
       "  min-width: 20ex;\n",
       "  max-width: 50ex;\n",
       "  color: var(--sklearn-color-text);\n",
       "  box-shadow: 2pt 2pt 4pt #999;\n",
       "  /* unfitted */\n",
       "  background: var(--sklearn-color-unfitted-level-0);\n",
       "  border: .5pt solid var(--sklearn-color-unfitted-level-3);\n",
       "}\n",
       "\n",
       ".sk-estimator-doc-link.fitted span {\n",
       "  /* fitted */\n",
       "  background: var(--sklearn-color-fitted-level-0);\n",
       "  border: var(--sklearn-color-fitted-level-3);\n",
       "}\n",
       "\n",
       ".sk-estimator-doc-link:hover span {\n",
       "  display: block;\n",
       "}\n",
       "\n",
       "/* \"?\"-specific style due to the `<a>` HTML tag */\n",
       "\n",
       "#sk-container-id-1 a.estimator_doc_link {\n",
       "  float: right;\n",
       "  font-size: 1rem;\n",
       "  line-height: 1em;\n",
       "  font-family: monospace;\n",
       "  background-color: var(--sklearn-color-background);\n",
       "  border-radius: 1rem;\n",
       "  height: 1rem;\n",
       "  width: 1rem;\n",
       "  text-decoration: none;\n",
       "  /* unfitted */\n",
       "  color: var(--sklearn-color-unfitted-level-1);\n",
       "  border: var(--sklearn-color-unfitted-level-1) 1pt solid;\n",
       "}\n",
       "\n",
       "#sk-container-id-1 a.estimator_doc_link.fitted {\n",
       "  /* fitted */\n",
       "  border: var(--sklearn-color-fitted-level-1) 1pt solid;\n",
       "  color: var(--sklearn-color-fitted-level-1);\n",
       "}\n",
       "\n",
       "/* On hover */\n",
       "#sk-container-id-1 a.estimator_doc_link:hover {\n",
       "  /* unfitted */\n",
       "  background-color: var(--sklearn-color-unfitted-level-3);\n",
       "  color: var(--sklearn-color-background);\n",
       "  text-decoration: none;\n",
       "}\n",
       "\n",
       "#sk-container-id-1 a.estimator_doc_link.fitted:hover {\n",
       "  /* fitted */\n",
       "  background-color: var(--sklearn-color-fitted-level-3);\n",
       "}\n",
       "</style><div id=\"sk-container-id-1\" class=\"sk-top-container\"><div class=\"sk-text-repr-fallback\"><pre>GridSearchCV(cv=5,\n",
       "             estimator=DecisionTreeClassifier(criterion=&#x27;entropy&#x27;,\n",
       "                                              random_state=42),\n",
       "             param_grid={&#x27;max_depth&#x27;: [2, 4, 5],\n",
       "                         &#x27;max_features&#x27;: [100, 150, 200]},\n",
       "             scoring=&#x27;accuracy&#x27;)</pre><b>In a Jupyter environment, please rerun this cell to show the HTML representation or trust the notebook. <br />On GitHub, the HTML representation is unable to render, please try loading this page with nbviewer.org.</b></div><div class=\"sk-container\" hidden><div class=\"sk-item sk-dashed-wrapped\"><div class=\"sk-label-container\"><div class=\"sk-label fitted sk-toggleable\"><input class=\"sk-toggleable__control sk-hidden--visually\" id=\"sk-estimator-id-1\" type=\"checkbox\" ><label for=\"sk-estimator-id-1\" class=\"sk-toggleable__label fitted sk-toggleable__label-arrow fitted\">&nbsp;&nbsp;GridSearchCV<a class=\"sk-estimator-doc-link fitted\" rel=\"noreferrer\" target=\"_blank\" href=\"https://scikit-learn.org/1.5/modules/generated/sklearn.model_selection.GridSearchCV.html\">?<span>Documentation for GridSearchCV</span></a><span class=\"sk-estimator-doc-link fitted\">i<span>Fitted</span></span></label><div class=\"sk-toggleable__content fitted\"><pre>GridSearchCV(cv=5,\n",
       "             estimator=DecisionTreeClassifier(criterion=&#x27;entropy&#x27;,\n",
       "                                              random_state=42),\n",
       "             param_grid={&#x27;max_depth&#x27;: [2, 4, 5],\n",
       "                         &#x27;max_features&#x27;: [100, 150, 200]},\n",
       "             scoring=&#x27;accuracy&#x27;)</pre></div> </div></div><div class=\"sk-parallel\"><div class=\"sk-parallel-item\"><div class=\"sk-item\"><div class=\"sk-label-container\"><div class=\"sk-label fitted sk-toggleable\"><input class=\"sk-toggleable__control sk-hidden--visually\" id=\"sk-estimator-id-2\" type=\"checkbox\" ><label for=\"sk-estimator-id-2\" class=\"sk-toggleable__label fitted sk-toggleable__label-arrow fitted\">best_estimator_: DecisionTreeClassifier</label><div class=\"sk-toggleable__content fitted\"><pre>DecisionTreeClassifier(criterion=&#x27;entropy&#x27;, max_depth=5, max_features=150,\n",
       "                       random_state=42)</pre></div> </div></div><div class=\"sk-serial\"><div class=\"sk-item\"><div class=\"sk-estimator fitted sk-toggleable\"><input class=\"sk-toggleable__control sk-hidden--visually\" id=\"sk-estimator-id-3\" type=\"checkbox\" ><label for=\"sk-estimator-id-3\" class=\"sk-toggleable__label fitted sk-toggleable__label-arrow fitted\">&nbsp;DecisionTreeClassifier<a class=\"sk-estimator-doc-link fitted\" rel=\"noreferrer\" target=\"_blank\" href=\"https://scikit-learn.org/1.5/modules/generated/sklearn.tree.DecisionTreeClassifier.html\">?<span>Documentation for DecisionTreeClassifier</span></a></label><div class=\"sk-toggleable__content fitted\"><pre>DecisionTreeClassifier(criterion=&#x27;entropy&#x27;, max_depth=5, max_features=150,\n",
       "                       random_state=42)</pre></div> </div></div></div></div></div></div></div></div></div>"
      ],
      "text/plain": [
       "GridSearchCV(cv=5,\n",
       "             estimator=DecisionTreeClassifier(criterion='entropy',\n",
       "                                              random_state=42),\n",
       "             param_grid={'max_depth': [2, 4, 5],\n",
       "                         'max_features': [100, 150, 200]},\n",
       "             scoring='accuracy')"
      ]
     },
     "execution_count": 11,
     "metadata": {},
     "output_type": "execute_result"
    }
   ],
   "source": [
    "# define a Decision Tree Classifier\n",
    "dt_classifier = DecisionTreeClassifier(criterion='entropy', random_state=42)\n",
    "# define grid search parameters\n",
    "param_grid = {\n",
    "    'max_features': [100, 150, 200],\n",
    "    'max_depth': [2, 4, 5]\n",
    "}\n",
    "# define Grid Search with 5-Fold Cross Validation\n",
    "grid_search = GridSearchCV(dt_classifier, param_grid, cv=5, scoring='accuracy')\n",
    "# fit GridSearchCV to the training data\n",
    "grid_search.fit(X_train_scaled, y_train_int)"
   ]
  },
  {
   "cell_type": "markdown",
   "id": "dd13b7a3-d8c9-4336-a1fc-84becccd28cc",
   "metadata": {},
   "source": [
    "Print the Grid Search metrics"
   ]
  },
  {
   "cell_type": "code",
   "execution_count": 13,
   "id": "c7d29616-cfd6-405e-8d67-c379ef120bd4",
   "metadata": {},
   "outputs": [
    {
     "name": "stdout",
     "output_type": "stream",
     "text": [
      "Test Accuracy: 0.6765\n",
      "Test F1-Score (macro): 0.6645\n",
      "Best Parameters: {'max_depth': 5, 'max_features': 150}\n"
     ]
    }
   ],
   "source": [
    "# get the best estimator\n",
    "best_model = grid_search.best_estimator_\n",
    "# make predictions on the test set\n",
    "y_pred = best_model.predict(X_test_scaled)\n",
    "# compute accuracy and F1-score\n",
    "accuracy = accuracy_score(y_test_int, y_pred)\n",
    "f1_macro = f1_score(y_test_int, y_pred, average='macro')\n",
    "# print results\n",
    "print(f\"Test Accuracy: {accuracy:.4f}\")\n",
    "print(f\"Test F1-Score (macro): {f1_macro:.4f}\")\n",
    "print(f\"Best Parameters: {grid_search.best_params_}\")"
   ]
  },
  {
   "cell_type": "code",
   "execution_count": 14,
   "id": "1878cd93-01c9-4b51-9f9e-7e81fd0c3c99",
   "metadata": {},
   "outputs": [
    {
     "name": "stdout",
     "output_type": "stream",
     "text": [
      "\n",
      "All Grid Search Results:\n",
      "Params: {'max_depth': 2, 'max_features': 100}, Mean CV Accuracy: 0.3162\n",
      "Params: {'max_depth': 2, 'max_features': 150}, Mean CV Accuracy: 0.3162\n",
      "Params: {'max_depth': 2, 'max_features': 200}, Mean CV Accuracy: 0.3230\n",
      "Params: {'max_depth': 4, 'max_features': 100}, Mean CV Accuracy: 0.5627\n",
      "Params: {'max_depth': 4, 'max_features': 150}, Mean CV Accuracy: 0.5775\n",
      "Params: {'max_depth': 4, 'max_features': 200}, Mean CV Accuracy: 0.5842\n",
      "Params: {'max_depth': 5, 'max_features': 100}, Mean CV Accuracy: 0.6507\n",
      "Params: {'max_depth': 5, 'max_features': 150}, Mean CV Accuracy: 0.6605\n",
      "Params: {'max_depth': 5, 'max_features': 200}, Mean CV Accuracy: 0.6546\n"
     ]
    }
   ],
   "source": [
    "# print scores for all parameter combinations\n",
    "print(\"\\nAll Grid Search Results:\")\n",
    "for params, mean_test_score in zip(grid_search.cv_results_['params'], grid_search.cv_results_['mean_test_score']):\n",
    "    print(f\"Params: {params}, Mean CV Accuracy: {mean_test_score:.4f}\")"
   ]
  },
  {
   "cell_type": "markdown",
   "id": "69204e71-92ee-42a5-ad26-eedd55f64cd9",
   "metadata": {},
   "source": [
    "Discuss the results"
   ]
  },
  {
   "cell_type": "markdown",
   "id": "e0de7aa8-1d8d-4658-b5dd-126d5e930203",
   "metadata": {},
   "source": [
    "From the above results it seems that at depth 2 the model is underfitting (the accuracy is very low). At depths 4 and 5 the results are better, with depth 5 having the higher accuracy. The number of features seems to not have a significant impact on the accuracy scores, although the increase in the number of features generally improves the accuracy scores. Nevertheless we see that at depth 5 the increase in the number of features from 150 to 200 actually reduces the accuracy, suggesting that too many features might introduce noise."
   ]
  },
  {
   "cell_type": "markdown",
   "id": "79796565-522e-45c9-b757-de639134cc69",
   "metadata": {},
   "source": [
    "##### Question 3. #####\n",
    "Use PCA and Decision Tree."
   ]
  },
  {
   "cell_type": "code",
   "execution_count": 18,
   "id": "608b39da-f5c0-4f39-b877-47d2e2dae031",
   "metadata": {},
   "outputs": [],
   "source": [
    "# create a pipeline performing PCA and Decision Tree\n",
    "pipeline = Pipeline([\n",
    "    ('pca', PCA(n_components=0.90, random_state=42)),\n",
    "    ('dt', DecisionTreeClassifier(max_depth=5, criterion='entropy', random_state=42))\n",
    "])\n",
    "# fit the model\n",
    "pipeline.fit(X_train_scaled, y_train_int)\n",
    "# make predictions\n",
    "y_pred = pipeline.predict(X_test_scaled)"
   ]
  },
  {
   "cell_type": "markdown",
   "id": "f172697a-94ce-43b5-bf1f-b0116017d3c0",
   "metadata": {},
   "source": [
    "Print the PCA metrics"
   ]
  },
  {
   "cell_type": "code",
   "execution_count": 20,
   "id": "19781f15-6128-4ad1-b14c-87512a9f9d99",
   "metadata": {},
   "outputs": [
    {
     "name": "stdout",
     "output_type": "stream",
     "text": [
      "Test Accuracy (PCA + Decision Tree): 0.6720\n",
      "Test F1-Score (macro, PCA + Decision Tree): 0.6682\n"
     ]
    }
   ],
   "source": [
    "# compute accuracy and F1-score\n",
    "accuracy_pca = accuracy_score(y_test_int, y_pred)\n",
    "f1_macro_pca = f1_score(y_test_int, y_pred, average='macro')\n",
    "# print results\n",
    "print(f\"Test Accuracy (PCA + Decision Tree): {accuracy_pca:.4f}\")\n",
    "print(f\"Test F1-Score (macro, PCA + Decision Tree): {f1_macro_pca:.4f}\")"
   ]
  },
  {
   "cell_type": "markdown",
   "id": "9052732e-cb01-40cd-b28b-bb7432e03a44",
   "metadata": {},
   "source": [
    "Discuss the results"
   ]
  },
  {
   "cell_type": "markdown",
   "id": "2007030b-a4a1-4086-aea4-a0376045752c",
   "metadata": {},
   "source": [
    "We observe that the scores after applying PCA remain roughly the same. Therefore we can conclude that PCA removed the redundant features without significant loss."
   ]
  },
  {
   "cell_type": "markdown",
   "id": "189cf115-aa53-44ea-a5fe-f292c6e5acf4",
   "metadata": {},
   "source": [
    "##### Question 4. #####\n",
    "Use PCA and Gradient Boosting."
   ]
  },
  {
   "cell_type": "code",
   "execution_count": 24,
   "id": "9122e184-4935-4764-8bde-693c0f51a6b0",
   "metadata": {},
   "outputs": [],
   "source": [
    "# create a pipeline performing PCA and Gradient Boosting\n",
    "pipeline = Pipeline([\n",
    "    ('pca', PCA(n_components=0.90, random_state=42)),\n",
    "    ('gbc', GradientBoostingClassifier(max_depth=2, n_estimators=6, learning_rate=1.0, random_state=42))\n",
    "])\n",
    "# fit the model\n",
    "pipeline.fit(X_train_scaled, y_train_int)\n",
    "# make predictions\n",
    "y_pred = pipeline.predict(X_test_scaled)"
   ]
  },
  {
   "cell_type": "markdown",
   "id": "9d3c7748-79cd-4c16-a1ec-a881f4d0f2e9",
   "metadata": {},
   "source": [
    "Print the Gradient Boosting metrics"
   ]
  },
  {
   "cell_type": "code",
   "execution_count": 26,
   "id": "94ae040e-f889-4f34-b084-1818b5db413f",
   "metadata": {},
   "outputs": [
    {
     "name": "stdout",
     "output_type": "stream",
     "text": [
      "Test Accuracy (PCA + GBC): 0.7940\n",
      "Test F1-Score (macro, PCA + GBC): 0.7903\n"
     ]
    }
   ],
   "source": [
    "# compute accuracy and F1-score\n",
    "accuracy_gbc = accuracy_score(y_test_int, y_pred)\n",
    "f1_macro_gbc = f1_score(y_test_int, y_pred, average='macro')\n",
    "# print results\n",
    "print(f\"Test Accuracy (PCA + GBC): {accuracy_gbc:.4f}\")\n",
    "print(f\"Test F1-Score (macro, PCA + GBC): {f1_macro_gbc:.4f}\")"
   ]
  },
  {
   "cell_type": "markdown",
   "id": "6cf6b04d-1e1d-4da8-b90c-cc4d8bcd7a9b",
   "metadata": {},
   "source": [
    "Discuss the results"
   ]
  },
  {
   "cell_type": "markdown",
   "id": "7e7a3d09-6aee-451a-a3b2-0a636b3746c7",
   "metadata": {},
   "source": [
    "It seems that Gradient Boosting produces a more accurate model. The Decision Tree may have overfitted the data by capturing noise or irrelevant patterns. Even with shallow trees, the boosting process allows it to make better decisions by combining the outputs of several trees, leading to better generalization."
   ]
  },
  {
   "cell_type": "markdown",
   "id": "ea928697-6394-4fca-8f5c-d08a1359a1e0",
   "metadata": {},
   "source": [
    "##### Question 5. #####\n",
    "Reconstuct images and use KMeans."
   ]
  },
  {
   "cell_type": "code",
   "execution_count": 30,
   "id": "d38f3703-cf06-4e24-91bc-906c34a602af",
   "metadata": {},
   "outputs": [],
   "source": [
    "# apply PCA \n",
    "pca = PCA(n_components=0.90, random_state=42)\n",
    "X_train_scaled_pca = pca.fit_transform(X_train_scaled)\n",
    "# inverse PCA transformation\n",
    "X_train_scaled_recon = pca.inverse_transform(X_train_scaled_pca)\n",
    "# inverse scaling\n",
    "X_train_recon = scaler.inverse_transform(X_train_scaled_recon)\n",
    "# reshape images\n",
    "X_orig_img = X_train[:5].reshape(5, 28, 28)\n",
    "X_recon_img = X_train_recon[:5].reshape(5, 28, 28)"
   ]
  },
  {
   "cell_type": "code",
   "execution_count": 31,
   "id": "21ec9e84-e7e4-4c88-803d-88babe6327fd",
   "metadata": {},
   "outputs": [
    {
     "data": {
      "image/png": "[encoded data removed]",
      "text/plain": [
       "<Figure size 1000x500 with 10 Axes>"
      ]
     },
     "metadata": {},
     "output_type": "display_data"
    }
   ],
   "source": [
    "# plot original and reconstructed images side by side\n",
    "fig, axes = plt.subplots(2, 5, figsize=(10, 5))\n",
    "for i in range(5):\n",
    "    axes[0, i].imshow(X_orig_img[i], cmap='gray')\n",
    "    axes[0, i].set_title(f\"Original {y_train[i]}\")\n",
    "    axes[0, i].axis('off')\n",
    "    axes[1, i].imshow(X_recon_img[i], cmap='gray')\n",
    "    axes[1, i].set_title(f\"Reconstructed {y_train[i]}\")\n",
    "    axes[1, i].axis('off')\n",
    "plt.suptitle(\"Original vs. PCA Reconstructed Images\")\n",
    "plt.show()"
   ]
  },
  {
   "cell_type": "markdown",
   "id": "58a074ee-8de0-4929-a92a-0dc1dd27ff79",
   "metadata": {},
   "source": [
    "Discuss the results"
   ]
  },
  {
   "cell_type": "markdown",
   "id": "292fe450-df2f-4acf-a77b-02d814155d34",
   "metadata": {},
   "source": [
    "The reconstructed images resemble the original digits but appear blurry. We see that 90% variance retention keeps most of the information (shape of the digits), but blurring occurs due to the removal of less significant features."
   ]
  },
  {
   "cell_type": "markdown",
   "id": "4ff7ba08-117a-46d4-8a9f-c036c8f7643b",
   "metadata": {},
   "source": [
    "Use KMeans"
   ]
  },
  {
   "cell_type": "code",
   "execution_count": 35,
   "id": "b85735c2-5a76-4937-a2be-7da60838de99",
   "metadata": {},
   "outputs": [],
   "source": [
    "# perform KMeans clustering\n",
    "kmeans = KMeans(n_clusters=20, random_state=42, n_init=10)\n",
    "kmeans.fit(X_train_scaled_pca)\n",
    "# get the cluster centroids\n",
    "centroids_scaled_pca = kmeans.cluster_centers_\n",
    "# inverse PCA transformation\n",
    "centroids_scaled = pca.inverse_transform(centroids_scaled_pca)\n",
    "# inverse scaling\n",
    "centroids = scaler.inverse_transform(centroids_scaled)\n",
    "# reshape centroid images\n",
    "centroids_images = centroids.reshape(20, 28, 28)"
   ]
  },
  {
   "cell_type": "code",
   "execution_count": 36,
   "id": "aaa8e620-61fb-441b-a506-6c9b9cb39a31",
   "metadata": {},
   "outputs": [
    {
     "data": {
      "image/png": "[encoded data removed]",
      "text/plain": [
       "<Figure size 1200x400 with 20 Axes>"
      ]
     },
     "metadata": {},
     "output_type": "display_data"
    }
   ],
   "source": [
    "# plot the centroids\n",
    "fig, axes = plt.subplots(2, 10, figsize=(12, 4))\n",
    "for i, ax in enumerate(axes.flat):\n",
    "    ax.imshow(centroids_images[i], cmap='gray')\n",
    "    ax.set_title(f\"Cluster {i}\")\n",
    "    ax.axis('off')\n",
    "plt.suptitle(\"Most Representative Digits from 20 KMeans Clusters\")\n",
    "plt.show()"
   ]
  },
  {
   "cell_type": "markdown",
   "id": "f8e488b7-ef83-495d-b127-6b9b2777a6bb",
   "metadata": {},
   "source": [
    "##### Question 6. #####\n",
    "Label Propagation."
   ]
  },
  {
   "cell_type": "code",
   "execution_count": 38,
   "id": "85b570b2-4a84-481f-9442-f77f7508c2d9",
   "metadata": {},
   "outputs": [],
   "source": [
    "# manually assign labels to clusters\n",
    "manual_labels = np.array([7, 2, 5, 8, 1, 7, 1, 9, 4, 5, 6, 7, 9, 0, 0, 8, 3, 3, 6, 2])\n",
    "# compute distances to centroids\n",
    "distances = cdist(X_test, centroids, metric='euclidean')\n",
    "# find the nearest cluster index\n",
    "nearest_clusters = np.argmin(distances, axis=1)\n",
    "# assign the cluster's manual label\n",
    "y_pred = manual_labels[nearest_clusters]"
   ]
  },
  {
   "cell_type": "markdown",
   "id": "54e975e9-320b-4d65-ac91-c2a8aefb6d5d",
   "metadata": {},
   "source": [
    "Print the Label Propagation metrics"
   ]
  },
  {
   "cell_type": "code",
   "execution_count": 40,
   "id": "f7a936c1-4e9c-4254-8f56-1d29674ee4f8",
   "metadata": {},
   "outputs": [
    {
     "name": "stdout",
     "output_type": "stream",
     "text": [
      "Label Propagation Accuracy: 0.6020\n",
      "Label Propagation F1-score (macro): 0.5949\n"
     ]
    }
   ],
   "source": [
    "# compute Accuracy & F1-score\n",
    "accuracy = accuracy_score(y_test_int, y_pred)\n",
    "f1_macro = f1_score(y_test_int, y_pred, average='macro')\n",
    "# print Label Propagation metrics\n",
    "print(f\"Label Propagation Accuracy: {accuracy:.4f}\")\n",
    "print(f\"Label Propagation F1-score (macro): {f1_macro:.4f}\")"
   ]
  },
  {
   "cell_type": "markdown",
   "id": "faf90068-1549-482a-a230-55beef34f859",
   "metadata": {},
   "source": [
    "Discuss the results"
   ]
  },
  {
   "cell_type": "markdown",
   "id": "544d0413-71d7-402c-9673-7af2b5e920c5",
   "metadata": {},
   "source": [
    "The accuracy and macro F1-score depend on how well the clusters capture digit variations but it seems that the results are less accurate compared to the previous methods."
   ]
  },
  {
   "cell_type": "markdown",
   "id": "9dd8bbfd-b503-4fb8-9ca2-e05c772bdc81",
   "metadata": {},
   "source": [
    "### Problem 2 ###"
   ]
  },
  {
   "cell_type": "markdown",
   "id": "e5e3f7dc-25d3-43d4-9bb9-b82942fe16f8",
   "metadata": {},
   "source": [
    "Import required libraries."
   ]
  },
  {
   "cell_type": "code",
   "execution_count": 45,
   "id": "4f60d0c2-41bc-462a-91bd-cac0326844cc",
   "metadata": {},
   "outputs": [],
   "source": [
    "import pandas as pd\n",
    "from sklearn.preprocessing import StandardScaler\n",
    "from sklearn.model_selection import train_test_split\n",
    "from sklearn.tree import DecisionTreeClassifier\n",
    "from sklearn.ensemble import RandomForestClassifier, BaggingClassifier, AdaBoostClassifier\n",
    "from sklearn.svm import SVC\n",
    "from sklearn.metrics import classification_report, confusion_matrix"
   ]
  },
  {
   "cell_type": "markdown",
   "id": "61287734-d29f-42d9-aad9-27dcdffd8970",
   "metadata": {},
   "source": [
    "##### Question 1. #####\n",
    "Load pima.csv dataset and display information."
   ]
  },
  {
   "cell_type": "code",
   "execution_count": 47,
   "id": "6e27f814-bfaa-4595-8fae-4da0a7b99db8",
   "metadata": {},
   "outputs": [
    {
     "name": "stdout",
     "output_type": "stream",
     "text": [
      "Dataset Shape: (768, 9)\n",
      "Target Variable Distribution:\n",
      " Outcome\n",
      "0    500\n",
      "1    268\n",
      "Name: count, dtype: int64\n"
     ]
    }
   ],
   "source": [
    "# load the dataset\n",
    "pima = pd.read_csv(\"datasets/pima.csv\", sep=',')\n",
    "# print the shape of the dataset\n",
    "print(\"Dataset Shape:\", pima.shape)\n",
    "# display the distribution of the target variable\n",
    "distribution = pima['Outcome'].value_counts()\n",
    "print(\"Target Variable Distribution:\\n\", distribution)"
   ]
  },
  {
   "cell_type": "markdown",
   "id": "35243f07-df2c-450b-9ff0-8edcd82683aa",
   "metadata": {},
   "source": [
    "##### Question 2. #####\n",
    "Display feature information and replace zero values."
   ]
  },
  {
   "cell_type": "code",
   "execution_count": 49,
   "id": "f3c5c6db-84e4-4a9f-ae7c-15ebc89bc66e",
   "metadata": {},
   "outputs": [
    {
     "name": "stdout",
     "output_type": "stream",
     "text": [
      "Original Dataset Statistics:\n",
      "       Pregnancies     Glucose  BloodPressure  SkinThickness     Insulin  \\\n",
      "count   768.000000  768.000000     768.000000     768.000000  768.000000   \n",
      "mean      3.845052  120.894531      69.105469      20.536458   79.799479   \n",
      "std       3.369578   31.972618      19.355807      15.952218  115.244002   \n",
      "min       0.000000    0.000000       0.000000       0.000000    0.000000   \n",
      "25%       1.000000   99.000000      62.000000       0.000000    0.000000   \n",
      "50%       3.000000  117.000000      72.000000      23.000000   30.500000   \n",
      "75%       6.000000  140.250000      80.000000      32.000000  127.250000   \n",
      "max      17.000000  199.000000     122.000000      99.000000  846.000000   \n",
      "\n",
      "              BMI  DiabetesPedigreeFunction         Age     Outcome  \n",
      "count  768.000000                768.000000  768.000000  768.000000  \n",
      "mean    31.992578                  0.471876   33.240885    0.348958  \n",
      "std      7.884160                  0.331329   11.760232    0.476951  \n",
      "min      0.000000                  0.078000   21.000000    0.000000  \n",
      "25%     27.300000                  0.243750   24.000000    0.000000  \n",
      "50%     32.000000                  0.372500   29.000000    0.000000  \n",
      "75%     36.600000                  0.626250   41.000000    1.000000  \n",
      "max     67.100000                  2.420000   81.000000    1.000000  \n",
      "\n",
      "Updated Dataset Statistics:\n",
      "       Pregnancies     Glucose  BloodPressure  SkinThickness     Insulin  \\\n",
      "count   768.000000  768.000000     768.000000     768.000000  768.000000   \n",
      "mean      4.278646  121.656250      72.386719      27.334635   94.652344   \n",
      "std       3.021516   30.438286      12.096642       9.229014  105.547598   \n",
      "min       1.000000   44.000000      24.000000       7.000000   14.000000   \n",
      "25%       2.000000   99.750000      64.000000      23.000000   30.500000   \n",
      "50%       3.000000  117.000000      72.000000      23.000000   31.250000   \n",
      "75%       6.000000  140.250000      80.000000      32.000000  127.250000   \n",
      "max      17.000000  199.000000     122.000000      99.000000  846.000000   \n",
      "\n",
      "              BMI  DiabetesPedigreeFunction         Age     Outcome  \n",
      "count  768.000000                768.000000  768.000000  768.000000  \n",
      "mean    32.450911                  0.471876   33.240885    0.348958  \n",
      "std      6.875366                  0.331329   11.760232    0.476951  \n",
      "min     18.200000                  0.078000   21.000000    0.000000  \n",
      "25%     27.500000                  0.243750   24.000000    0.000000  \n",
      "50%     32.000000                  0.372500   29.000000    0.000000  \n",
      "75%     36.600000                  0.626250   41.000000    1.000000  \n",
      "max     67.100000                  2.420000   81.000000    1.000000  \n",
      "\n",
      "Columns affected by zero-value replacement: ['Pregnancies', 'Glucose', 'BloodPressure', 'SkinThickness', 'Insulin', 'BMI']\n"
     ]
    }
   ],
   "source": [
    "# display main statistical characteristics of each column\n",
    "print(\"Original Dataset Statistics:\")\n",
    "print(pima.describe())\n",
    "# identify columns with zero minimum values and replace them with median\n",
    "columns_with_zero_min = []\n",
    "for col in pima.columns:\n",
    "    if pima[col].min() == 0 and col != 'Outcome':\n",
    "        columns_with_zero_min.append(col)\n",
    "        median_value = pima[col].median()\n",
    "        pima[col] = pima[col].replace(0, median_value)\n",
    "# print updated dataset characteristics and affected columns\n",
    "print(\"\\nUpdated Dataset Statistics:\")\n",
    "print(pima.describe())\n",
    "print(\"\\nColumns affected by zero-value replacement:\", columns_with_zero_min)"
   ]
  },
  {
   "cell_type": "markdown",
   "id": "94df59f8-621e-44cc-bea9-52dcdf5c8eed",
   "metadata": {},
   "source": [
    "##### Question 3 #####\n",
    "Perform a stratified split of the dataset."
   ]
  },
  {
   "cell_type": "code",
   "execution_count": 51,
   "id": "0eae08c7-3781-419e-aeff-f923e8b64088",
   "metadata": {},
   "outputs": [],
   "source": [
    "# define features (X) and target (y)\n",
    "X = pima.drop(columns=['Outcome'])  # Feature space\n",
    "y = pima['Outcome']  # Target variable\n",
    "# perform stratified split\n",
    "X_train, X_test, y_train, y_test = train_test_split(X, y, train_size=700, stratify=y, random_state=42)\n",
    "# standardize features\n",
    "scaler = StandardScaler()\n",
    "X_train_scaled = scaler.fit_transform(X_train)\n",
    "X_test_scaled = scaler.transform(X_test)"
   ]
  },
  {
   "cell_type": "markdown",
   "id": "a1ffaa07-4e7a-4a3d-b4c8-ea960332f871",
   "metadata": {},
   "source": [
    "##### Question 4 #####\n",
    "Train models and calculate performance metrics."
   ]
  },
  {
   "cell_type": "code",
   "execution_count": 53,
   "id": "6c52101d-f569-4606-a2a1-dc85fb668c0f",
   "metadata": {},
   "outputs": [
    {
     "name": "stdout",
     "output_type": "stream",
     "text": [
      "\n",
      "Model: Decision Tree\n",
      "Classification Report:\n",
      "               precision    recall  f1-score   support\n",
      "\n",
      "           0       0.79      0.75      0.77        44\n",
      "           1       0.58      0.62      0.60        24\n",
      "\n",
      "    accuracy                           0.71        68\n",
      "   macro avg       0.68      0.69      0.68        68\n",
      "weighted avg       0.71      0.71      0.71        68\n",
      "\n",
      "Confusion Matrix:\n",
      " [[33 11]\n",
      " [ 9 15]]\n",
      "\n",
      "Model: Random Forest\n",
      "Classification Report:\n",
      "               precision    recall  f1-score   support\n",
      "\n",
      "           0       0.88      0.84      0.86        44\n",
      "           1       0.73      0.79      0.76        24\n",
      "\n",
      "    accuracy                           0.82        68\n",
      "   macro avg       0.81      0.82      0.81        68\n",
      "weighted avg       0.83      0.82      0.83        68\n",
      "\n",
      "Confusion Matrix:\n",
      " [[37  7]\n",
      " [ 5 19]]\n",
      "\n",
      "Model: Bagging (SVM)\n",
      "Classification Report:\n",
      "               precision    recall  f1-score   support\n",
      "\n",
      "           0       0.82      0.82      0.82        44\n",
      "           1       0.67      0.67      0.67        24\n",
      "\n",
      "    accuracy                           0.76        68\n",
      "   macro avg       0.74      0.74      0.74        68\n",
      "weighted avg       0.76      0.76      0.76        68\n",
      "\n",
      "Confusion Matrix:\n",
      " [[36  8]\n",
      " [ 8 16]]\n",
      "\n",
      "Model: AdaBoost (Decision Tree)\n",
      "Classification Report:\n",
      "               precision    recall  f1-score   support\n",
      "\n",
      "           0       0.77      0.75      0.76        44\n",
      "           1       0.56      0.58      0.57        24\n",
      "\n",
      "    accuracy                           0.69        68\n",
      "   macro avg       0.66      0.67      0.67        68\n",
      "weighted avg       0.69      0.69      0.69        68\n",
      "\n",
      "Confusion Matrix:\n",
      " [[33 11]\n",
      " [10 14]]\n"
     ]
    },
    {
     "name": "stderr",
     "output_type": "stream",
     "text": [
      "/home/nik/anaconda3/lib/python3.12/site-packages/sklearn/ensemble/_weight_boosting.py:527: FutureWarning: The SAMME.R algorithm (the default) is deprecated and will be removed in 1.6. Use the SAMME algorithm to circumvent this warning.\n",
      "  warnings.warn(\n"
     ]
    }
   ],
   "source": [
    "# create models\n",
    "dectr_clf = DecisionTreeClassifier(random_state=42)\n",
    "rand_clf = RandomForestClassifier(random_state=42)\n",
    "bag_clf = BaggingClassifier(estimator=SVC(kernel='linear'), n_estimators=10, random_state=42)\n",
    "ada_clf = AdaBoostClassifier(estimator=DecisionTreeClassifier(), n_estimators=100, learning_rate=0.25, random_state=42)\n",
    "# train models\n",
    "dectr_clf.fit(X_train_scaled, y_train)\n",
    "rand_clf.fit(X_train_scaled, y_train)\n",
    "bag_clf.fit(X_train_scaled, y_train)\n",
    "ada_clf.fit(X_train_scaled, y_train)\n",
    "# make predictions\n",
    "y_pred_dectr = dectr_clf.predict(X_test_scaled)\n",
    "y_pred_rand = rand_clf.predict(X_test_scaled)\n",
    "y_pred_bag = bag_clf.predict(X_test_scaled)\n",
    "y_pred_ada = ada_clf.predict(X_test_scaled)\n",
    "# function to print classification results\n",
    "def print_results(model_name, y_test, y_pred):\n",
    "    print(f\"\\nModel: {model_name}\")\n",
    "    print(\"Classification Report:\\n\", classification_report(y_test, y_pred))\n",
    "    print(\"Confusion Matrix:\\n\", confusion_matrix(y_test, y_pred))\n",
    "# display results for each model\n",
    "print_results(\"Decision Tree\", y_test, y_pred_dectr)\n",
    "print_results(\"Random Forest\", y_test, y_pred_rand)\n",
    "print_results(\"Bagging (SVM)\", y_test, y_pred_bag)\n",
    "print_results(\"AdaBoost (Decision Tree)\", y_test, y_pred_ada)"
   ]
  },
  {
   "cell_type": "markdown",
   "id": "6aa09120-45ab-4305-81a2-834ab54e27fc",
   "metadata": {},
   "source": [
    "##### Question 5 #####\n",
    "Compare model performance."
   ]
  },
  {
   "cell_type": "code",
   "execution_count": null,
   "id": "c39a9a33-e1d1-47fb-8655-d0433b4ad734",
   "metadata": {},
   "outputs": [],
   "source": []
  },
  {
   "cell_type": "markdown",
   "id": "6b7acbc8-24ec-44ff-9b5d-ed4a2c55f589",
   "metadata": {},
   "source": [
    "##### Question 6 #####\n",
    "Self training classifier."
   ]
  },
  {
   "cell_type": "code",
   "execution_count": null,
   "id": "01a5c6d4-da45-4c21-aa33-65eea562fcb7",
   "metadata": {},
   "outputs": [],
   "source": []
  }
 ],
 "metadata": {
  "kernelspec": {
   "display_name": "Python 3 (ipykernel)",
   "language": "python",
   "name": "python3"
  },
  "language_info": {
   "codemirror_mode": {
    "name": "ipython",
    "version": 3
   },
   "file_extension": ".py",
   "mimetype": "text/x-python",
   "name": "python",
   "nbconvert_exporter": "python",
   "pygments_lexer": "ipython3",
   "version": "3.12.7"
  }
 },
 "nbformat": 4,
 "nbformat_minor": 5
}
